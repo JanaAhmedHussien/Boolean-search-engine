{
  "nbformat": 4,
  "nbformat_minor": 0,
  "metadata": {
    "colab": {
      "provenance": []
    },
    "kernelspec": {
      "name": "python3",
      "display_name": "Python 3"
    },
    "language_info": {
      "name": "python"
    }
  },
  "cells": [
    {
      "cell_type": "code",
      "execution_count": null,
      "metadata": {
        "id": "Chob6GOktudf"
      },
      "outputs": [],
      "source": [
        "#Documents found in my search engine\n",
        "collection={\"documentA\":\"The importance of education in society and its impact on economic growth\",\n",
        "            \"documentB\":\"The benefits of regular exercise for maintaining physical and mental health\",\n",
        "            \"documentC\":\"The role of technology in modern workplaces : Increasing productivity and efficiency\",\n",
        "            \"documentD\":\"The influence of social media on interpersonal relationships and communication\",\n",
        "            \"documentE\":\"The significance of environmental conservation efforts for sustainable development\",\n",
        "            \"documentF\":\"The challenges and opportunities of globalization in the 21st century\"}\n",
        "\n",
        "operators=[\"AND\",\"OR\",\"NOT\"]"
      ]
    },
    {
      "cell_type": "code",
      "source": [
        "#I want unique terms from all documents to use in matrix\n",
        "def acquire_document_terms(collection):\n",
        "  terms=[]\n",
        "  for document in collection:\n",
        "    for term in collection[document].split():\n",
        "      if term not in terms:\n",
        "        terms.append(term)\n",
        "  return terms\n",
        "acquire_document_terms(collection)"
      ],
      "metadata": {
        "colab": {
          "base_uri": "https://localhost:8080/"
        },
        "id": "jrzdkF6Yqsfh",
        "outputId": "e3dc1959-fdcc-4824-d321-eadd4821e09b"
      },
      "execution_count": null,
      "outputs": [
        {
          "output_type": "execute_result",
          "data": {
            "text/plain": [
              "['The',\n",
              " 'importance',\n",
              " 'of',\n",
              " 'education',\n",
              " 'in',\n",
              " 'society',\n",
              " 'and',\n",
              " 'its',\n",
              " 'impact',\n",
              " 'on',\n",
              " 'economic',\n",
              " 'growth',\n",
              " 'benefits',\n",
              " 'regular',\n",
              " 'exercise',\n",
              " 'for',\n",
              " 'maintaining',\n",
              " 'physical',\n",
              " 'mental',\n",
              " 'health',\n",
              " 'role',\n",
              " 'technology',\n",
              " 'modern',\n",
              " 'workplaces',\n",
              " ':',\n",
              " 'Increasing',\n",
              " 'productivity',\n",
              " 'efficiency',\n",
              " 'influence',\n",
              " 'social',\n",
              " 'media',\n",
              " 'interpersonal',\n",
              " 'relationships',\n",
              " 'communication',\n",
              " 'significance',\n",
              " 'environmental',\n",
              " 'conservation',\n",
              " 'efforts',\n",
              " 'sustainable',\n",
              " 'development',\n",
              " 'challenges',\n",
              " 'opportunities',\n",
              " 'globalization',\n",
              " 'the',\n",
              " '21st',\n",
              " 'century']"
            ]
          },
          "metadata": {},
          "execution_count": 12
        }
      ]
    },
    {
      "cell_type": "code",
      "source": [
        "#Terms related to which doc to compare in the matrix either it is found or not\n",
        "#For search and comparison only\n",
        "# dictionary document ID:[terms]\n",
        "def doc_term_list(collection):\n",
        "  doc_terms={}\n",
        "  for doc in collection:\n",
        "    terms_list=[]\n",
        "    for term in collection[doc].split():\n",
        "      terms_list.append(term)\n",
        "    doc_terms[doc]=terms_list\n",
        "  return doc_terms\n",
        "for i in doc_term_list(collection):\n",
        "    print(i,\": \",doc_term_list(collection)[i])"
      ],
      "metadata": {
        "colab": {
          "base_uri": "https://localhost:8080/"
        },
        "id": "1ydez1cgsC1A",
        "outputId": "a8caee46-42fc-4229-d2f0-887a962324c1"
      },
      "execution_count": null,
      "outputs": [
        {
          "output_type": "stream",
          "name": "stdout",
          "text": [
            "documentA :  ['The', 'importance', 'of', 'education', 'in', 'society', 'and', 'its', 'impact', 'on', 'economic', 'growth']\n",
            "documentB :  ['The', 'benefits', 'of', 'regular', 'exercise', 'for', 'maintaining', 'physical', 'and', 'mental', 'health']\n",
            "documentC :  ['The', 'role', 'of', 'technology', 'in', 'modern', 'workplaces', ':', 'Increasing', 'productivity', 'and', 'efficiency']\n",
            "documentD :  ['The', 'influence', 'of', 'social', 'media', 'on', 'interpersonal', 'relationships', 'and', 'communication']\n",
            "documentE :  ['The', 'significance', 'of', 'environmental', 'conservation', 'efforts', 'for', 'sustainable', 'development']\n",
            "documentF :  ['The', 'challenges', 'and', 'opportunities', 'of', 'globalization', 'in', 'the', '21st', 'century']\n"
          ]
        }
      ]
    },
    {
      "cell_type": "code",
      "source": [
        "#Term_document_incedence_matrix\n",
        "#need dictionary    example term:[0,1,0,1]\n",
        "def matrix_doc(collection):\n",
        "  matrix={}\n",
        "  terms=acquire_document_terms(collection)\n",
        "  for i in range (len(terms)):\n",
        "      list_documents=[]\n",
        "      for list in doc_term_list(collection):\n",
        "         if terms[i] in doc_term_list(collection)[list]:\n",
        "          list_documents.append(1)\n",
        "         else:\n",
        "          list_documents.append(0)\n",
        "      matrix[terms[i]]=list_documents\n",
        "  return matrix\n",
        "\n",
        "\n",
        "\n",
        "for i in matrix_doc(collection):\n",
        "  print(i,\":     \",matrix_doc(collection)[i])"
      ],
      "metadata": {
        "colab": {
          "base_uri": "https://localhost:8080/"
        },
        "id": "wYM_SDU51NBW",
        "outputId": "b80a544d-03dc-4cfa-df69-79bfcbc02c21"
      },
      "execution_count": null,
      "outputs": [
        {
          "output_type": "stream",
          "name": "stdout",
          "text": [
            "The :      [1, 1, 1, 1, 1, 1]\n",
            "importance :      [1, 0, 0, 0, 0, 0]\n",
            "of :      [1, 1, 1, 1, 1, 1]\n",
            "education :      [1, 0, 0, 0, 0, 0]\n",
            "in :      [1, 0, 1, 0, 0, 1]\n",
            "society :      [1, 0, 0, 0, 0, 0]\n",
            "and :      [1, 1, 1, 1, 0, 1]\n",
            "its :      [1, 0, 0, 0, 0, 0]\n",
            "impact :      [1, 0, 0, 0, 0, 0]\n",
            "on :      [1, 0, 0, 1, 0, 0]\n",
            "economic :      [1, 0, 0, 0, 0, 0]\n",
            "growth :      [1, 0, 0, 0, 0, 0]\n",
            "benefits :      [0, 1, 0, 0, 0, 0]\n",
            "regular :      [0, 1, 0, 0, 0, 0]\n",
            "exercise :      [0, 1, 0, 0, 0, 0]\n",
            "for :      [0, 1, 0, 0, 1, 0]\n",
            "maintaining :      [0, 1, 0, 0, 0, 0]\n",
            "physical :      [0, 1, 0, 0, 0, 0]\n",
            "mental :      [0, 1, 0, 0, 0, 0]\n",
            "health :      [0, 1, 0, 0, 0, 0]\n",
            "role :      [0, 0, 1, 0, 0, 0]\n",
            "technology :      [0, 0, 1, 0, 0, 0]\n",
            "modern :      [0, 0, 1, 0, 0, 0]\n",
            "workplaces :      [0, 0, 1, 0, 0, 0]\n",
            ": :      [0, 0, 1, 0, 0, 0]\n",
            "Increasing :      [0, 0, 1, 0, 0, 0]\n",
            "productivity :      [0, 0, 1, 0, 0, 0]\n",
            "efficiency :      [0, 0, 1, 0, 0, 0]\n",
            "influence :      [0, 0, 0, 1, 0, 0]\n",
            "social :      [0, 0, 0, 1, 0, 0]\n",
            "media :      [0, 0, 0, 1, 0, 0]\n",
            "interpersonal :      [0, 0, 0, 1, 0, 0]\n",
            "relationships :      [0, 0, 0, 1, 0, 0]\n",
            "communication :      [0, 0, 0, 1, 0, 0]\n",
            "significance :      [0, 0, 0, 0, 1, 0]\n",
            "environmental :      [0, 0, 0, 0, 1, 0]\n",
            "conservation :      [0, 0, 0, 0, 1, 0]\n",
            "efforts :      [0, 0, 0, 0, 1, 0]\n",
            "sustainable :      [0, 0, 0, 0, 1, 0]\n",
            "development :      [0, 0, 0, 0, 1, 0]\n",
            "challenges :      [0, 0, 0, 0, 0, 1]\n",
            "opportunities :      [0, 0, 0, 0, 0, 1]\n",
            "globalization :      [0, 0, 0, 0, 0, 1]\n",
            "the :      [0, 0, 0, 0, 0, 1]\n",
            "21st :      [0, 0, 0, 0, 0, 1]\n",
            "century :      [0, 0, 0, 0, 0, 1]\n"
          ]
        }
      ]
    },
    {
      "cell_type": "code",
      "source": [
        "def query_collection(collection,query):\n",
        "  new_query=[]\n",
        "  for term in query.split():\n",
        "    if term in acquire_document_terms(collection) or term in operators:\n",
        "      new_query.append(term)\n",
        "  return new_query\n",
        "query_collection(collection,\"health AND public AND NOT governments\")"
      ],
      "metadata": {
        "colab": {
          "base_uri": "https://localhost:8080/"
        },
        "id": "rGGRK9aO_MOl",
        "outputId": "c02760cf-262c-410d-d592-74b400588f66"
      },
      "execution_count": null,
      "outputs": [
        {
          "output_type": "execute_result",
          "data": {
            "text/plain": [
              "['health', 'AND', 'AND', 'NOT']"
            ]
          },
          "metadata": {},
          "execution_count": 15
        }
      ]
    },
    {
      "cell_type": "code",
      "source": [
        "def boolean_operators(operator,termBef,termAft):\n",
        "  try:\n",
        "      if operator==\"AND\":\n",
        "        l=[]\n",
        "        for x,y in zip(termBef,termAft):\n",
        "          l.append(x & y)\n",
        "        return l\n",
        "      elif operator==\"OR\":\n",
        "        l=[]\n",
        "        for x,y in zip(termBef,termAft):\n",
        "          l.append(x | y)\n",
        "        return l\n",
        "      elif operator==\"NOT\":\n",
        "        l=[]\n",
        "        for x in termBef:\n",
        "          l.append(1-termBef)\n",
        "        return l\n",
        "  except:\n",
        "           return \"Term not found\"\n",
        "\n",
        "#we need incedence vector to work with boolean operators"
      ],
      "metadata": {
        "id": "wY0Vaey2BjtK"
      },
      "execution_count": null,
      "outputs": []
    },
    {
      "cell_type": "code",
      "source": [
        "def incedence_vectors(term,matrix_doc):\n",
        "  try:\n",
        "    return matrix_doc[term]\n",
        "  except:\n",
        "    return \"term not in any document\"                #prevent errors when my term not found\n",
        "incedence_vectors(\"The\",matrix_doc(collection))"
      ],
      "metadata": {
        "colab": {
          "base_uri": "https://localhost:8080/"
        },
        "id": "zRq7YtvyDjf3",
        "outputId": "48a8219d-2a5b-4bdb-e356-8cb333444baa"
      },
      "execution_count": null,
      "outputs": [
        {
          "output_type": "execute_result",
          "data": {
            "text/plain": [
              "[1, 1, 1, 1, 1, 1]"
            ]
          },
          "metadata": {},
          "execution_count": 17
        }
      ]
    },
    {
      "cell_type": "code",
      "source": [
        "#test\n",
        "v1=incedence_vectors(\"technology\",matrix_doc(collection))\n",
        "v2=incedence_vectors(\"The\",matrix_doc(collection))\n",
        "print(boolean_operators(\"AND\",v1,v2))"
      ],
      "metadata": {
        "colab": {
          "base_uri": "https://localhost:8080/"
        },
        "id": "e7Z5qadLE-i0",
        "outputId": "1e73e2eb-b899-4980-83e3-80488cfb1438"
      },
      "execution_count": null,
      "outputs": [
        {
          "output_type": "stream",
          "name": "stdout",
          "text": [
            "[0, 0, 1, 0, 0, 0]\n"
          ]
        }
      ]
    },
    {
      "cell_type": "code",
      "source": [
        "def Search_engine(collection, query):\n",
        "    returns = None\n",
        "    for terms_query in query.split():\n",
        "        if terms_query in operators:  #term is operator\n",
        "            operator = terms_query\n",
        "        else:                             #term is normal word\n",
        "            term = terms_query\n",
        "            if returns is None:  #we don't do operators before\n",
        "                returns = incedence_vectors(term, matrix_doc(collection))\n",
        "            else:\n",
        "                if operator == \"AND\":\n",
        "                    returns = boolean_operators(\"AND\", returns, incedence_vectors(term, matrix_doc(collection)))\n",
        "                elif operator == \"OR\":\n",
        "                    returns = boolean_operators(\"OR\", returns, incedence_vectors(term, matrix_doc(collection)))\n",
        "                elif operator == \"NOT\":\n",
        "                    returns = boolean_operators(\"NOT\", returns,incedence_vectors(term, matrix_doc(collection)))\n",
        "\n",
        "    related_docs = []\n",
        "    for i, value in enumerate(returns):\n",
        "        if value == 1:\n",
        "            related_docs.append(list(collection.keys())[i])\n",
        "    if (len(related_docs)==0):\n",
        "      return \"No related document according to query \"\n",
        "    else:\n",
        "          return related_docs\n",
        "\n",
        "\n"
      ],
      "metadata": {
        "id": "v9n6m59DOXgZ"
      },
      "execution_count": null,
      "outputs": []
    },
    {
      "cell_type": "code",
      "source": [
        "query1= \"technology AND workplaces\"\n",
        "query2= \"environment AND NOT conservation\"\n",
        "query3=\"social AND media OR interpersonal AND relationships\"\n",
        "query4= \"health AND public AND NOT governments\"\n",
        "related_documents = Search_engine(collection, query1)\n",
        "print(\"Documents related to query:\", related_documents)"
      ],
      "metadata": {
        "colab": {
          "base_uri": "https://localhost:8080/"
        },
        "id": "2Jywciymitpv",
        "outputId": "6a1eefb0-2495-4b25-e034-c912b184b390"
      },
      "execution_count": null,
      "outputs": [
        {
          "output_type": "stream",
          "name": "stdout",
          "text": [
            "Documents related to query: ['documentC']\n"
          ]
        }
      ]
    },
    {
      "cell_type": "code",
      "source": [
        "#Make sure for answers of the second questions\n",
        "\n",
        "collection={1 : \"new home sales top forecasts\",\n",
        "2 : \"home sales rise in July\",\n",
        "3 : \"increase in home sales in July\",\n",
        "4 : \"July new home sales rise\"}\n",
        "Query1=\" July OR sales OR rise\"\n",
        "Query2=\" home AND top\"\n",
        "Query3=\" increase AND NOT home\"\n",
        "\n",
        "related_documents = Search_engine(collection, Query2)\n",
        "print(\"Documents related to query:\", related_documents)\n"
      ],
      "metadata": {
        "colab": {
          "base_uri": "https://localhost:8080/"
        },
        "id": "MMhtcRAenaTE",
        "outputId": "5f00a148-050e-418b-d25b-e4ac5f7a04d4"
      },
      "execution_count": null,
      "outputs": [
        {
          "output_type": "stream",
          "name": "stdout",
          "text": [
            "Documents related to query: [1]\n"
          ]
        }
      ]
    }
  ]
}